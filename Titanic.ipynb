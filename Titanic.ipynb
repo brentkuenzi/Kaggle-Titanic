{
 "cells": [
  {
   "cell_type": "markdown",
   "metadata": {},
   "source": [
    "This notebook is an analysis and prediction of the survival status of passengers on the titanic. The datasets are part of Kaggle and code was written by Brent Kuenzi"
   ]
  },
  {
   "cell_type": "markdown",
   "metadata": {},
   "source": [
    "#### Variable definitions\n",
    "- survival = Survival\n",
    "- pclass = Ticket class\n",
    "- sex = Sex\t\n",
    "- Age = Age in years\t\n",
    "- sibsp = # of siblings / spouses aboard the Titanic\t\n",
    "- parch = # of parents / children aboard the Titanic\t\n",
    "- ticket = Ticket number\t\n",
    "- fare = Passenger fare\t\n",
    "- cabin = Cabin number\t\n",
    "- embarked = Port of Embarkation"
   ]
  },
  {
   "cell_type": "code",
   "execution_count": 332,
   "metadata": {
    "collapsed": true
   },
   "outputs": [],
   "source": [
    "import pandas as pd\n",
    "import numpy as np\n",
    "import matplotlib.pyplot as plt\n",
    "from sklearn.ensemble import RandomForestRegressor"
   ]
  },
  {
   "cell_type": "markdown",
   "metadata": {},
   "source": [
    "## Remove uninformative variables & convert strings"
   ]
  },
  {
   "cell_type": "code",
   "execution_count": 333,
   "metadata": {
    "collapsed": true
   },
   "outputs": [],
   "source": [
    "train = pd.read_csv(\"train.csv\")\n",
    "test = pd.read_csv(\"test.csv\")\n",
    "del train[\"Ticket\"]; del train[\"Cabin\"]\n",
    "ID = train[\"PassengerId\"]; del train[\"PassengerId\"]\n",
    "train[\"Sex\"] = train[\"Sex\"].replace(\"male\",0);train[\"Sex\"] = train[\"Sex\"].replace(\"female\",1)\n",
    "train[\"Embarked\"] = train[\"Embarked\"].replace(\"S\",0)\n",
    "train[\"Embarked\"] = train[\"Embarked\"].replace(\"C\",1)\n",
    "train[\"Embarked\"] = train[\"Embarked\"].replace(\"Q\",2)\n",
    "surv = train[\"Survived\"]; del train[\"Survived\"]"
   ]
  },
  {
   "cell_type": "markdown",
   "metadata": {},
   "source": [
    "## Deal with NAs\n",
    "1) All the ages with no data make the median of the most likely group based on their name\n",
    "    - \"Master\" is most likely young boy\n",
    "    - \"Miss\" is most likely girl or young woman\n",
    "    - \"Mr\" is most likely man\n",
    "    - \"Mrs\" is most likely woman\n",
    "\n",
    "2) All missing embarks just make them embark from most common place\n",
    "\n",
    "3) All the missing prices assume median of their respective class"
   ]
  },
  {
   "cell_type": "code",
   "execution_count": 334,
   "metadata": {
    "collapsed": true
   },
   "outputs": [],
   "source": [
    "master=[];miss=[];mr=[];mrs=[]\n",
    "for i in range(len(train[\"Age\"])):\n",
    "    if \"Master\" in train[\"Name\"][i]:\n",
    "        if not np.isnan(train[\"Age\"][i]):\n",
    "            master.append(train[\"Age\"][i])\n",
    "    if \"Miss\" in train[\"Name\"][i]:\n",
    "        if not np.isnan(train[\"Age\"][i]):\n",
    "            miss.append(train[\"Age\"][i])\n",
    "    if \"Mr.\" in train[\"Name\"][i]:\n",
    "        if not np.isnan(train[\"Age\"][i]):\n",
    "            mr.append(train[\"Age\"][i])\n",
    "    if \"Mrs.\" in train[\"Name\"][i]:\n",
    "        if not np.isnan(train[\"Age\"][i]):\n",
    "            mrs.append(train[\"Age\"][i])"
   ]
  },
  {
   "cell_type": "code",
   "execution_count": 335,
   "metadata": {
    "collapsed": true
   },
   "outputs": [],
   "source": [
    "age = []\n",
    "for i in range(len(train[\"Age\"])):\n",
    "    if np.isnan(train[\"Age\"][i]):\n",
    "        if \"Master\" in train[\"Name\"][i]:\n",
    "            age.append(np.median(master))\n",
    "        elif \"Miss\" in train[\"Name\"][i]:\n",
    "            age.append(np.median(miss))\n",
    "        elif \"Ms.\" in train[\"Name\"][i]:\n",
    "            age.append(np.median(miss))\n",
    "        elif \"Mr.\" in train[\"Name\"][i]:\n",
    "            age.append(np.median(mr))\n",
    "        elif \"Mrs.\" in train[\"Name\"][i]:\n",
    "            age.append(np.median(mrs))\n",
    "        else:\n",
    "            age.append(train[\"Age\"].median())\n",
    "    else:\n",
    "        age.append(train[\"Age\"][i])"
   ]
  },
  {
   "cell_type": "code",
   "execution_count": 336,
   "metadata": {
    "collapsed": true
   },
   "outputs": [],
   "source": [
    "#train[\"Age\"] = train[\"Age\"].fillna(train[\"Age\"].median())\n",
    "#train[\"Age\"] = train[\"Age\"].fillna(train.groupby(\"Sex\")[\"Age\"].transform('median'))\n",
    "train[\"Age\"] = age\n",
    "del train[\"Name\"]"
   ]
  },
  {
   "cell_type": "code",
   "execution_count": 337,
   "metadata": {
    "collapsed": true
   },
   "outputs": [],
   "source": [
    "train[\"Embarked\"] = train[\"Embarked\"].fillna(np.max(train[\"Embarked\"].value_counts()))"
   ]
  },
  {
   "cell_type": "code",
   "execution_count": 338,
   "metadata": {
    "collapsed": true
   },
   "outputs": [],
   "source": [
    "train[\"Fare\"] = train[\"Fare\"].fillna(train.groupby([\"Pclass\",\"Age\"])[\"Fare\"].transform('median'))"
   ]
  },
  {
   "cell_type": "code",
   "execution_count": 339,
   "metadata": {},
   "outputs": [
    {
     "data": {
      "text/html": [
       "<div>\n",
       "<style>\n",
       "    .dataframe thead tr:only-child th {\n",
       "        text-align: right;\n",
       "    }\n",
       "\n",
       "    .dataframe thead th {\n",
       "        text-align: left;\n",
       "    }\n",
       "\n",
       "    .dataframe tbody tr th {\n",
       "        vertical-align: top;\n",
       "    }\n",
       "</style>\n",
       "<table border=\"1\" class=\"dataframe\">\n",
       "  <thead>\n",
       "    <tr style=\"text-align: right;\">\n",
       "      <th></th>\n",
       "      <th>Pclass</th>\n",
       "      <th>Sex</th>\n",
       "      <th>Age</th>\n",
       "      <th>SibSp</th>\n",
       "      <th>Parch</th>\n",
       "      <th>Fare</th>\n",
       "      <th>Embarked</th>\n",
       "    </tr>\n",
       "  </thead>\n",
       "  <tbody>\n",
       "    <tr>\n",
       "      <th>0</th>\n",
       "      <td>3</td>\n",
       "      <td>0</td>\n",
       "      <td>22.0</td>\n",
       "      <td>1</td>\n",
       "      <td>0</td>\n",
       "      <td>7.2500</td>\n",
       "      <td>0.0</td>\n",
       "    </tr>\n",
       "    <tr>\n",
       "      <th>1</th>\n",
       "      <td>1</td>\n",
       "      <td>1</td>\n",
       "      <td>38.0</td>\n",
       "      <td>1</td>\n",
       "      <td>0</td>\n",
       "      <td>71.2833</td>\n",
       "      <td>1.0</td>\n",
       "    </tr>\n",
       "    <tr>\n",
       "      <th>2</th>\n",
       "      <td>3</td>\n",
       "      <td>1</td>\n",
       "      <td>26.0</td>\n",
       "      <td>0</td>\n",
       "      <td>0</td>\n",
       "      <td>7.9250</td>\n",
       "      <td>0.0</td>\n",
       "    </tr>\n",
       "    <tr>\n",
       "      <th>3</th>\n",
       "      <td>1</td>\n",
       "      <td>1</td>\n",
       "      <td>35.0</td>\n",
       "      <td>1</td>\n",
       "      <td>0</td>\n",
       "      <td>53.1000</td>\n",
       "      <td>0.0</td>\n",
       "    </tr>\n",
       "    <tr>\n",
       "      <th>4</th>\n",
       "      <td>3</td>\n",
       "      <td>0</td>\n",
       "      <td>35.0</td>\n",
       "      <td>0</td>\n",
       "      <td>0</td>\n",
       "      <td>8.0500</td>\n",
       "      <td>0.0</td>\n",
       "    </tr>\n",
       "  </tbody>\n",
       "</table>\n",
       "</div>"
      ],
      "text/plain": [
       "   Pclass  Sex   Age  SibSp  Parch     Fare  Embarked\n",
       "0       3    0  22.0      1      0   7.2500       0.0\n",
       "1       1    1  38.0      1      0  71.2833       1.0\n",
       "2       3    1  26.0      0      0   7.9250       0.0\n",
       "3       1    1  35.0      1      0  53.1000       0.0\n",
       "4       3    0  35.0      0      0   8.0500       0.0"
      ]
     },
     "execution_count": 339,
     "metadata": {},
     "output_type": "execute_result"
    }
   ],
   "source": [
    "train.head()"
   ]
  },
  {
   "cell_type": "code",
   "execution_count": 340,
   "metadata": {
    "collapsed": true,
    "scrolled": true
   },
   "outputs": [],
   "source": [
    "from sklearn.model_selection import train_test_split\n",
    "X_train, X_test, y_train, y_test = train_test_split(train, surv, test_size=0.1, random_state=42)"
   ]
  },
  {
   "cell_type": "code",
   "execution_count": 341,
   "metadata": {
    "collapsed": true
   },
   "outputs": [],
   "source": [
    "regr_rf = RandomForestRegressor(max_depth=7, random_state=2)\n",
    "fit = regr_rf.fit(X_train, y_train)\n",
    "predictions = fit.predict(X_test)"
   ]
  },
  {
   "cell_type": "code",
   "execution_count": 342,
   "metadata": {
    "collapsed": true
   },
   "outputs": [],
   "source": [
    "def probability_cutoff(array, probability):\n",
    "    output = []\n",
    "    for i in array:\n",
    "        if i < probability:\n",
    "            output.append(0)\n",
    "        else:\n",
    "            output.append(1)\n",
    "    return output"
   ]
  },
  {
   "cell_type": "markdown",
   "metadata": {},
   "source": [
    "## Test and train accuracy\n",
    "Predictions are classified based on rounding up or down to 0 or 1\n"
   ]
  },
  {
   "cell_type": "code",
   "execution_count": 343,
   "metadata": {},
   "outputs": [
    {
     "name": "stdout",
     "output_type": "stream",
     "text": [
      "0.05: train=0.455680399501, test=0.422222222222\n",
      "0.1: train=0.664169787765, test=0.588888888889\n",
      "0.15: train=0.791510611735, test=0.7\n",
      "0.2: train=0.8177278402, test=0.733333333333\n",
      "0.25: train=0.847690387016, test=0.766666666667\n",
      "0.3: train=0.878901373283, test=0.811111111111\n",
      "0.35: train=0.896379525593, test=0.822222222222\n",
      "0.4: train=0.901373283396, test=0.844444444444\n",
      "0.45: train=0.897627965044, test=0.855555555556\n",
      "0.5: train=0.900124843945, test=0.844444444444\n",
      "0.55: train=0.893882646692, test=0.844444444444\n",
      "0.6: train=0.885143570537, test=0.833333333333\n",
      "0.7: train=0.866416978777, test=0.822222222222\n",
      "0.75: train=0.852684144819, test=0.811111111111\n",
      "0.8: train=0.843945068664, test=0.8\n",
      "0.85: train=0.827715355805, test=0.777777777778\n",
      "0.9: train=0.807740324594, test=0.766666666667\n",
      "0.95: train=0.786516853933, test=0.766666666667\n",
      "1: train=0.755305867665, test=0.755555555556\n"
     ]
    }
   ],
   "source": [
    "# Train and Test Accuracy\n",
    "from sklearn.metrics import accuracy_score\n",
    "for i in [0.05,0.1,0.15,0.2,0.25,0.3,0.35,0.4,0.45,0.5,0.55,0.6,0.7,0.75,0.8,0.85,0.9,0.95,1]:\n",
    "    print str(i) + \": train=\" + str(accuracy_score(y_train, probability_cutoff(fit.predict(X_train),i))) + \", test=\"+str(accuracy_score(y_test, probability_cutoff(predictions,i)))\n",
    "predictions_cutoff = probability_cutoff(predictions,0.5)"
   ]
  },
  {
   "cell_type": "markdown",
   "metadata": {},
   "source": [
    "# Train on full dataset and make predictions"
   ]
  },
  {
   "cell_type": "code",
   "execution_count": 344,
   "metadata": {
    "collapsed": true
   },
   "outputs": [],
   "source": [
    "fit = regr_rf.fit(train, surv)"
   ]
  },
  {
   "cell_type": "code",
   "execution_count": 345,
   "metadata": {
    "collapsed": true
   },
   "outputs": [],
   "source": [
    "del test[\"Ticket\"]\n",
    "del test[\"Cabin\"]\n",
    "ID2 = test[\"PassengerId\"]; del test[\"PassengerId\"]\n",
    "test[\"Embarked\"] = test[\"Embarked\"].replace(\"S\",0)\n",
    "test[\"Embarked\"] = test[\"Embarked\"].replace(\"C\",1)\n",
    "test[\"Embarked\"] = test[\"Embarked\"].replace(\"Q\",2)\n",
    "test[\"Sex\"] = test[\"Sex\"].replace(\"male\",0);test[\"Sex\"] = test[\"Sex\"].replace(\"female\",1)\n",
    "test[\"Embarked\"] = test[\"Embarked\"].fillna(np.max(test[\"Embarked\"].value_counts()))\n",
    "test[\"Fare\"] = test[\"Fare\"].fillna(test.groupby(\"Pclass\")[\"Fare\"].transform('median'))"
   ]
  },
  {
   "cell_type": "code",
   "execution_count": 346,
   "metadata": {
    "collapsed": true
   },
   "outputs": [],
   "source": [
    "master=[];miss=[];mr=[];mrs=[]\n",
    "for i in range(len(test[\"Age\"])):\n",
    "    if \"Master\" in test[\"Name\"][i]:\n",
    "        if not np.isnan(test[\"Age\"][i]):\n",
    "            master.append(test[\"Age\"][i])\n",
    "    if \"Miss\" in test[\"Name\"][i]:\n",
    "        if not np.isnan(test[\"Age\"][i]):\n",
    "            miss.append(test[\"Age\"][i])\n",
    "    if \"Mr.\" in test[\"Name\"][i]:\n",
    "        if not np.isnan(test[\"Age\"][i]):\n",
    "            mr.append(test[\"Age\"][i])\n",
    "    if \"Mrs.\" in test[\"Name\"][i]:\n",
    "        if not np.isnan(test[\"Age\"][i]):\n",
    "            mrs.append(test[\"Age\"][i])\n",
    "age = []\n",
    "for i in range(len(test[\"Age\"])):\n",
    "    if np.isnan(test[\"Age\"][i]):\n",
    "        if \"Master\" in test[\"Name\"][i]:\n",
    "            age.append(np.median(master))\n",
    "        elif \"Miss\" in test[\"Name\"][i]:\n",
    "            age.append(np.median(miss))\n",
    "        elif \"Ms.\" in test[\"Name\"][i]:\n",
    "            age.append(np.median(miss))\n",
    "        elif \"Mr.\" in test[\"Name\"][i]:\n",
    "            age.append(np.median(mr))\n",
    "        elif \"Mrs.\" in test[\"Name\"][i]:\n",
    "            age.append(np.median(mrs))\n",
    "        else:\n",
    "            age.append(test[\"Age\"].median())\n",
    "    else:\n",
    "        age.append(test[\"Age\"][i])\n",
    "test[\"Age\"] = age\n",
    "del test[\"Name\"]"
   ]
  },
  {
   "cell_type": "code",
   "execution_count": 347,
   "metadata": {
    "collapsed": true
   },
   "outputs": [],
   "source": [
    "output = fit.predict(test)"
   ]
  },
  {
   "cell_type": "code",
   "execution_count": 348,
   "metadata": {},
   "outputs": [
    {
     "data": {
      "text/plain": [
       "<matplotlib.text.Text at 0x1110872d0>"
      ]
     },
     "execution_count": 348,
     "metadata": {},
     "output_type": "execute_result"
    },
    {
     "data": {
      "image/png": "[encoded data removed]",
      "text/plain": [
       "<matplotlib.figure.Figure at 0x1a1e0dad10>"
      ]
     },
     "metadata": {},
     "output_type": "display_data"
    }
   ],
   "source": [
    "%matplotlib inline\n",
    "features = pd.DataFrame({\"variable\" : train.columns, \"importance\":fit.feature_importances_})\n",
    "features.plot(x=\"variable\",y=\"importance\")\n",
    "plt.ylabel(\"importance\"); plt.xlabel(\"\")"
   ]
  },
  {
   "cell_type": "code",
   "execution_count": 349,
   "metadata": {
    "collapsed": true
   },
   "outputs": [],
   "source": [
    "output_class = []\n",
    "for i in output:\n",
    "    if i <= 0.5:\n",
    "        output_class.append(0)\n",
    "    else:\n",
    "        output_class.append(1)\n",
    "outputDF = pd.DataFrame({\"PassengerId\":ID2, \"Survived\":output_class})\n",
    "outputDF.to_csv(\"titanic_predictions.csv\",)"
   ]
  },
  {
   "cell_type": "code",
   "execution_count": null,
   "metadata": {
    "collapsed": true
   },
   "outputs": [],
   "source": []
  }
 ],
 "metadata": {
  "anaconda-cloud": {},
  "kernelspec": {
   "display_name": "Python [default]",
   "language": "python",
   "name": "python2"
  },
  "language_info": {
   "codemirror_mode": {
    "name": "ipython",
    "version": 2
   },
   "file_extension": ".py",
   "mimetype": "text/x-python",
   "name": "python",
   "nbconvert_exporter": "python",
   "pygments_lexer": "ipython2",
   "version": "2.7.11"
  }
 },
 "nbformat": 4,
 "nbformat_minor": 2
}
