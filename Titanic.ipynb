{
 "cells": [
  {
   "cell_type": "markdown",
   "metadata": {},
   "source": [
    "This notebook is an analysis and prediction of the survival status of passengers on the titanic. The datasets are part of Kaggle and code was written by Brent Kuenzi"
   ]
  },
  {
   "cell_type": "markdown",
   "metadata": {},
   "source": [
    "#### Variable definitions\n",
    "- survival = Survival\n",
    "- pclass = Ticket class\n",
    "- sex = Sex\t\n",
    "- Age = Age in years\t\n",
    "- sibsp = # of siblings / spouses aboard the Titanic\t\n",
    "- parch = # of parents / children aboard the Titanic\t\n",
    "- ticket = Ticket number\t\n",
    "- fare = Passenger fare\t\n",
    "- cabin = Cabin number\t\n",
    "- embarked = Port of Embarkation"
   ]
  },
  {
   "cell_type": "code",
   "execution_count": 1,
   "metadata": {
    "collapsed": true
   },
   "outputs": [],
   "source": [
    "import pandas as pd\n",
    "import numpy as np\n",
    "import matplotlib.pyplot as plt\n",
    "from sklearn.ensemble import RandomForestRegressor"
   ]
  },
  {
   "cell_type": "markdown",
   "metadata": {},
   "source": [
    "## Remove uninformative variables & convert strings"
   ]
  },
  {
   "cell_type": "code",
   "execution_count": 2,
   "metadata": {
    "collapsed": true
   },
   "outputs": [],
   "source": [
    "train = pd.read_csv(\"train.csv\")\n",
    "test = pd.read_csv(\"test.csv\")\n",
    "del train[\"Ticket\"]; del train[\"Cabin\"]\n",
    "ID = train[\"PassengerId\"]; del train[\"PassengerId\"]\n",
    "train[\"Sex\"] = train[\"Sex\"].replace(\"male\",0);train[\"Sex\"] = train[\"Sex\"].replace(\"female\",1)\n",
    "train[\"Embarked\"] = train[\"Embarked\"].replace(\"S\",0)\n",
    "train[\"Embarked\"] = train[\"Embarked\"].replace(\"C\",1)\n",
    "train[\"Embarked\"] = train[\"Embarked\"].replace(\"Q\",2)\n",
    "surv = train[\"Survived\"]; del train[\"Survived\"]"
   ]
  },
  {
   "cell_type": "markdown",
   "metadata": {},
   "source": [
    "## Deal with NAs\n",
    "1) All the ages with no data make the median of the most likely group based on their name\n",
    "    - \"Master\" is most likely young boy\n",
    "    - \"Miss\" is most likely girl or young woman\n",
    "    - \"Mr\" is most likely man\n",
    "    - \"Mrs\" is most likely woman\n",
    "\n",
    "2) All missing embarks just make them embark from most common place\n",
    "\n",
    "3) All the missing prices assume median of their respective class"
   ]
  },
  {
   "cell_type": "code",
   "execution_count": 3,
   "metadata": {
    "collapsed": true
   },
   "outputs": [],
   "source": [
    "master=[];miss=[];mr=[];mrs=[]\n",
    "for i in range(len(train[\"Age\"])):\n",
    "    if \"Master\" in train[\"Name\"][i]:\n",
    "        if not np.isnan(train[\"Age\"][i]):\n",
    "            master.append(train[\"Age\"][i])\n",
    "    if \"Miss\" in train[\"Name\"][i]:\n",
    "        if not np.isnan(train[\"Age\"][i]):\n",
    "            miss.append(train[\"Age\"][i])\n",
    "    if \"Mr.\" in train[\"Name\"][i]:\n",
    "        if not np.isnan(train[\"Age\"][i]):\n",
    "            mr.append(train[\"Age\"][i])\n",
    "    if \"Mrs.\" in train[\"Name\"][i]:\n",
    "        if not np.isnan(train[\"Age\"][i]):\n",
    "            mrs.append(train[\"Age\"][i])"
   ]
  },
  {
   "cell_type": "code",
   "execution_count": 4,
   "metadata": {
    "collapsed": true
   },
   "outputs": [],
   "source": [
    "age = []\n",
    "for i in range(len(train[\"Age\"])):\n",
    "    if np.isnan(train[\"Age\"][i]):\n",
    "        if \"Master\" in train[\"Name\"][i]:\n",
    "            age.append(np.median(master))\n",
    "        elif \"Miss\" in train[\"Name\"][i]:\n",
    "            age.append(np.median(miss))\n",
    "        elif \"Ms.\" in train[\"Name\"][i]:\n",
    "            age.append(np.median(miss))\n",
    "        elif \"Mr.\" in train[\"Name\"][i]:\n",
    "            age.append(np.median(mr))\n",
    "        elif \"Mrs.\" in train[\"Name\"][i]:\n",
    "            age.append(np.median(mrs))\n",
    "        else:\n",
    "            age.append(train[\"Age\"].median())\n",
    "    else:\n",
    "        age.append(train[\"Age\"][i])"
   ]
  },
  {
   "cell_type": "code",
   "execution_count": 5,
   "metadata": {
    "collapsed": true
   },
   "outputs": [],
   "source": [
    "#train[\"Age\"] = train[\"Age\"].fillna(train[\"Age\"].median())\n",
    "#train[\"Age\"] = train[\"Age\"].fillna(train.groupby(\"Sex\")[\"Age\"].transform('median'))\n",
    "train[\"Age\"] = age\n",
    "del train[\"Name\"]"
   ]
  },
  {
   "cell_type": "code",
   "execution_count": 6,
   "metadata": {
    "collapsed": true
   },
   "outputs": [],
   "source": [
    "train[\"Embarked\"] = train[\"Embarked\"].fillna(np.max(train[\"Embarked\"].value_counts()))"
   ]
  },
  {
   "cell_type": "code",
   "execution_count": 7,
   "metadata": {
    "collapsed": true
   },
   "outputs": [],
   "source": [
    "train[\"Fare\"] = train[\"Fare\"].fillna(train.groupby([\"Pclass\",\"Age\"])[\"Fare\"].transform('median'))"
   ]
  },
  {
   "cell_type": "code",
   "execution_count": 8,
   "metadata": {
    "collapsed": true
   },
   "outputs": [],
   "source": [
    "alone = []\n",
    "for i in range(len(train[\"Parch\"])):\n",
    "    if train[\"SibSp\"][i] + train[\"Parch\"][i] + train[\"Sex\"][i] == 0:\n",
    "        alone.append(1)\n",
    "    else:\n",
    "        alone.append(0)\n",
    "train[\"SoloMale\"] = alone"
   ]
  },
  {
   "cell_type": "code",
   "execution_count": 9,
   "metadata": {},
   "outputs": [
    {
     "data": {
      "text/html": [
       "<div>\n",
       "<style>\n",
       "    .dataframe thead tr:only-child th {\n",
       "        text-align: right;\n",
       "    }\n",
       "\n",
       "    .dataframe thead th {\n",
       "        text-align: left;\n",
       "    }\n",
       "\n",
       "    .dataframe tbody tr th {\n",
       "        vertical-align: top;\n",
       "    }\n",
       "</style>\n",
       "<table border=\"1\" class=\"dataframe\">\n",
       "  <thead>\n",
       "    <tr style=\"text-align: right;\">\n",
       "      <th></th>\n",
       "      <th>Pclass</th>\n",
       "      <th>Sex</th>\n",
       "      <th>Age</th>\n",
       "      <th>SibSp</th>\n",
       "      <th>Parch</th>\n",
       "      <th>Fare</th>\n",
       "      <th>Embarked</th>\n",
       "      <th>SoloMale</th>\n",
       "    </tr>\n",
       "  </thead>\n",
       "  <tbody>\n",
       "    <tr>\n",
       "      <th>0</th>\n",
       "      <td>3</td>\n",
       "      <td>0</td>\n",
       "      <td>22.0</td>\n",
       "      <td>1</td>\n",
       "      <td>0</td>\n",
       "      <td>7.2500</td>\n",
       "      <td>0.0</td>\n",
       "      <td>0</td>\n",
       "    </tr>\n",
       "    <tr>\n",
       "      <th>1</th>\n",
       "      <td>1</td>\n",
       "      <td>1</td>\n",
       "      <td>38.0</td>\n",
       "      <td>1</td>\n",
       "      <td>0</td>\n",
       "      <td>71.2833</td>\n",
       "      <td>1.0</td>\n",
       "      <td>0</td>\n",
       "    </tr>\n",
       "    <tr>\n",
       "      <th>2</th>\n",
       "      <td>3</td>\n",
       "      <td>1</td>\n",
       "      <td>26.0</td>\n",
       "      <td>0</td>\n",
       "      <td>0</td>\n",
       "      <td>7.9250</td>\n",
       "      <td>0.0</td>\n",
       "      <td>0</td>\n",
       "    </tr>\n",
       "    <tr>\n",
       "      <th>3</th>\n",
       "      <td>1</td>\n",
       "      <td>1</td>\n",
       "      <td>35.0</td>\n",
       "      <td>1</td>\n",
       "      <td>0</td>\n",
       "      <td>53.1000</td>\n",
       "      <td>0.0</td>\n",
       "      <td>0</td>\n",
       "    </tr>\n",
       "    <tr>\n",
       "      <th>4</th>\n",
       "      <td>3</td>\n",
       "      <td>0</td>\n",
       "      <td>35.0</td>\n",
       "      <td>0</td>\n",
       "      <td>0</td>\n",
       "      <td>8.0500</td>\n",
       "      <td>0.0</td>\n",
       "      <td>1</td>\n",
       "    </tr>\n",
       "  </tbody>\n",
       "</table>\n",
       "</div>"
      ],
      "text/plain": [
       "   Pclass  Sex   Age  SibSp  Parch     Fare  Embarked  SoloMale\n",
       "0       3    0  22.0      1      0   7.2500       0.0         0\n",
       "1       1    1  38.0      1      0  71.2833       1.0         0\n",
       "2       3    1  26.0      0      0   7.9250       0.0         0\n",
       "3       1    1  35.0      1      0  53.1000       0.0         0\n",
       "4       3    0  35.0      0      0   8.0500       0.0         1"
      ]
     },
     "execution_count": 9,
     "metadata": {},
     "output_type": "execute_result"
    }
   ],
   "source": [
    "train.head()"
   ]
  },
  {
   "cell_type": "code",
   "execution_count": 10,
   "metadata": {
    "collapsed": true,
    "scrolled": true
   },
   "outputs": [],
   "source": [
    "from sklearn.model_selection import train_test_split\n",
    "X_train, X_test, y_train, y_test = train_test_split(train, surv, test_size=0.1, random_state=42)"
   ]
  },
  {
   "cell_type": "code",
   "execution_count": 11,
   "metadata": {
    "collapsed": true
   },
   "outputs": [],
   "source": [
    "regr_rf = RandomForestRegressor(max_depth=8, random_state=2)\n",
    "fit = regr_rf.fit(X_train, y_train)\n",
    "predictions = fit.predict(X_test)"
   ]
  },
  {
   "cell_type": "code",
   "execution_count": 12,
   "metadata": {
    "collapsed": true
   },
   "outputs": [],
   "source": [
    "def probability_cutoff(array, probability):\n",
    "    output = []\n",
    "    for i in array:\n",
    "        if i < probability:\n",
    "            output.append(0)\n",
    "        else:\n",
    "            output.append(1)\n",
    "    return output"
   ]
  },
  {
   "cell_type": "markdown",
   "metadata": {},
   "source": [
    "## Test and train accuracy\n",
    "Predictions are classified based on rounding up or down to 0 or 1\n"
   ]
  },
  {
   "cell_type": "code",
   "execution_count": 13,
   "metadata": {},
   "outputs": [
    {
     "name": "stdout",
     "output_type": "stream",
     "text": [
      "0.05: train=0.511860174782, test=0.488888888889\n",
      "0.1: train=0.680399500624, test=0.633333333333\n",
      "0.15: train=0.801498127341, test=0.7\n",
      "0.2: train=0.841448189763, test=0.722222222222\n",
      "0.25: train=0.881398252185, test=0.777777777778\n",
      "0.3: train=0.897627965044, test=0.777777777778\n",
      "0.35: train=0.912609238452, test=0.811111111111\n",
      "0.4: train=0.917602996255, test=0.833333333333\n",
      "0.45: train=0.917602996255, test=0.833333333333\n",
      "0.5: train=0.917602996255, test=0.855555555556\n",
      "0.55: train=0.911360799001, test=0.844444444444\n",
      "0.6: train=0.903870162297, test=0.844444444444\n",
      "0.7: train=0.880149812734, test=0.833333333333\n",
      "0.75: train=0.866416978777, test=0.833333333333\n",
      "0.8: train=0.85518102372, test=0.788888888889\n",
      "0.85: train=0.846441947566, test=0.788888888889\n",
      "0.9: train=0.827715355805, test=0.788888888889\n",
      "0.95: train=0.791510611735, test=0.755555555556\n",
      "1: train=0.786516853933, test=0.755555555556\n"
     ]
    }
   ],
   "source": [
    "# Train and Test Accuracy\n",
    "from sklearn.metrics import accuracy_score\n",
    "for i in [0.05,0.1,0.15,0.2,0.25,0.3,0.35,0.4,0.45,0.5,0.55,0.6,0.7,0.75,0.8,0.85,0.9,0.95,1]:\n",
    "    print str(i) + \": train=\" + str(accuracy_score(y_train, probability_cutoff(fit.predict(X_train),i))) + \", test=\"+str(accuracy_score(y_test, probability_cutoff(predictions,i)))\n",
    "predictions_cutoff = probability_cutoff(predictions,0.5)"
   ]
  },
  {
   "cell_type": "markdown",
   "metadata": {},
   "source": [
    "# Train on full dataset and make predictions"
   ]
  },
  {
   "cell_type": "code",
   "execution_count": 14,
   "metadata": {
    "collapsed": true
   },
   "outputs": [],
   "source": [
    "fit = regr_rf.fit(train, surv)"
   ]
  },
  {
   "cell_type": "code",
   "execution_count": 15,
   "metadata": {
    "collapsed": true
   },
   "outputs": [],
   "source": [
    "del test[\"Ticket\"]\n",
    "del test[\"Cabin\"]\n",
    "ID2 = test[\"PassengerId\"]; del test[\"PassengerId\"]\n",
    "test[\"Embarked\"] = test[\"Embarked\"].replace(\"S\",0)\n",
    "test[\"Embarked\"] = test[\"Embarked\"].replace(\"C\",1)\n",
    "test[\"Embarked\"] = test[\"Embarked\"].replace(\"Q\",2)\n",
    "test[\"Sex\"] = test[\"Sex\"].replace(\"male\",0);test[\"Sex\"] = test[\"Sex\"].replace(\"female\",1)\n",
    "test[\"Embarked\"] = test[\"Embarked\"].fillna(np.max(test[\"Embarked\"].value_counts()))\n",
    "test[\"Fare\"] = test[\"Fare\"].fillna(test.groupby(\"Pclass\")[\"Fare\"].transform('median'))"
   ]
  },
  {
   "cell_type": "code",
   "execution_count": 16,
   "metadata": {
    "collapsed": true
   },
   "outputs": [],
   "source": [
    "alone = []\n",
    "for i in range(len(test[\"Parch\"])):\n",
    "    if test[\"SibSp\"][i] + test[\"Parch\"][i] + test[\"Sex\"][i] == 0:\n",
    "        alone.append(1)\n",
    "    else:\n",
    "        alone.append(0)\n",
    "test[\"SoloMale\"] = alone"
   ]
  },
  {
   "cell_type": "code",
   "execution_count": 17,
   "metadata": {
    "collapsed": true
   },
   "outputs": [],
   "source": [
    "master=[];miss=[];mr=[];mrs=[]\n",
    "for i in range(len(test[\"Age\"])):\n",
    "    if \"Master\" in test[\"Name\"][i]:\n",
    "        if not np.isnan(test[\"Age\"][i]):\n",
    "            master.append(test[\"Age\"][i])\n",
    "    if \"Miss\" in test[\"Name\"][i]:\n",
    "        if not np.isnan(test[\"Age\"][i]):\n",
    "            miss.append(test[\"Age\"][i])\n",
    "    if \"Mr.\" in test[\"Name\"][i]:\n",
    "        if not np.isnan(test[\"Age\"][i]):\n",
    "            mr.append(test[\"Age\"][i])\n",
    "    if \"Mrs.\" in test[\"Name\"][i]:\n",
    "        if not np.isnan(test[\"Age\"][i]):\n",
    "            mrs.append(test[\"Age\"][i])\n",
    "age = []\n",
    "for i in range(len(test[\"Age\"])):\n",
    "    if np.isnan(test[\"Age\"][i]):\n",
    "        if \"Master\" in test[\"Name\"][i]:\n",
    "            age.append(np.median(master))\n",
    "        elif \"Miss\" in test[\"Name\"][i]:\n",
    "            age.append(np.median(miss))\n",
    "        elif \"Ms.\" in test[\"Name\"][i]:\n",
    "            age.append(np.median(miss))\n",
    "        elif \"Mr.\" in test[\"Name\"][i]:\n",
    "            age.append(np.median(mr))\n",
    "        elif \"Mrs.\" in test[\"Name\"][i]:\n",
    "            age.append(np.median(mrs))\n",
    "        else:\n",
    "            age.append(test[\"Age\"].median())\n",
    "    else:\n",
    "        age.append(test[\"Age\"][i])\n",
    "test[\"Age\"] = age\n",
    "del test[\"Name\"]"
   ]
  },
  {
   "cell_type": "code",
   "execution_count": 18,
   "metadata": {
    "collapsed": true
   },
   "outputs": [],
   "source": [
    "output = fit.predict(test)"
   ]
  },
  {
   "cell_type": "code",
   "execution_count": 19,
   "metadata": {},
   "outputs": [
    {
     "data": {
      "text/plain": [
       "Text(0.5,0,u'')"
      ]
     },
     "execution_count": 19,
     "metadata": {},
     "output_type": "execute_result"
    },
    {
     "data": {
      "image/png": "[encoded data removed]",
      "text/plain": [
       "<matplotlib.figure.Figure at 0x1a0c2f1e10>"
      ]
     },
     "metadata": {},
     "output_type": "display_data"
    }
   ],
   "source": [
    "%matplotlib inline\n",
    "features = pd.DataFrame({\"variable\" : train.columns, \"importance\":fit.feature_importances_})\n",
    "features.plot(x=\"variable\",y=\"importance\")\n",
    "plt.ylabel(\"importance\"); plt.xlabel(\"\")"
   ]
  },
  {
   "cell_type": "code",
   "execution_count": 20,
   "metadata": {},
   "outputs": [
    {
     "ename": "NameError",
     "evalue": "name 'outputDF' is not defined",
     "output_type": "error",
     "traceback": [
      "\u001b[0;31m---------------------------------------------------------------------------\u001b[0m",
      "\u001b[0;31mNameError\u001b[0m                                 Traceback (most recent call last)",
      "\u001b[0;32m<ipython-input-20-9a0b14680f83>\u001b[0m in \u001b[0;36m<module>\u001b[0;34m()\u001b[0m\n\u001b[1;32m      6\u001b[0m         \u001b[0moutput_class\u001b[0m\u001b[0;34m.\u001b[0m\u001b[0mappend\u001b[0m\u001b[0;34m(\u001b[0m\u001b[0;36m1\u001b[0m\u001b[0;34m)\u001b[0m\u001b[0;34m\u001b[0m\u001b[0m\n\u001b[1;32m      7\u001b[0m \u001b[0moutputDF_RF\u001b[0m \u001b[0;34m=\u001b[0m \u001b[0mpd\u001b[0m\u001b[0;34m.\u001b[0m\u001b[0mDataFrame\u001b[0m\u001b[0;34m(\u001b[0m\u001b[0;34m{\u001b[0m\u001b[0;34m\"PassengerId\"\u001b[0m\u001b[0;34m:\u001b[0m\u001b[0mID2\u001b[0m\u001b[0;34m,\u001b[0m \u001b[0;34m\"Survived\"\u001b[0m\u001b[0;34m:\u001b[0m\u001b[0moutput_class\u001b[0m\u001b[0;34m}\u001b[0m\u001b[0;34m)\u001b[0m\u001b[0;34m\u001b[0m\u001b[0m\n\u001b[0;32m----> 8\u001b[0;31m \u001b[0moutputDF\u001b[0m\u001b[0;34m.\u001b[0m\u001b[0mto_csv\u001b[0m\u001b[0;34m(\u001b[0m\u001b[0;34m\"titanic_predictions_RF.csv\"\u001b[0m\u001b[0;34m,\u001b[0m\u001b[0mindex\u001b[0m\u001b[0;34m=\u001b[0m\u001b[0mFalse\u001b[0m\u001b[0;34m)\u001b[0m\u001b[0;34m\u001b[0m\u001b[0m\n\u001b[0m",
      "\u001b[0;31mNameError\u001b[0m: name 'outputDF' is not defined"
     ]
    }
   ],
   "source": [
    "output_class = []\n",
    "for i in output:\n",
    "    if i <= 0.5:\n",
    "        output_class.append(0)\n",
    "    else:\n",
    "        output_class.append(1)\n",
    "outputDF_RF = pd.DataFrame({\"PassengerId\":ID2, \"Survived\":output_class})\n",
    "outputDF.to_csv(\"titanic_predictions_RF.csv\",index=False)"
   ]
  },
  {
   "cell_type": "markdown",
   "metadata": {},
   "source": [
    "#### Kaggle score of 78%\n",
    "We can do better..."
   ]
  },
  {
   "cell_type": "markdown",
   "metadata": {
    "collapsed": true
   },
   "source": [
    "# Lets try a SVM"
   ]
  },
  {
   "cell_type": "code",
   "execution_count": 21,
   "metadata": {
    "collapsed": true
   },
   "outputs": [],
   "source": [
    "from sklearn.svm import SVC\n",
    "from sklearn import preprocessing\n",
    "X_train_scaled = preprocessing.scale(X_train)\n",
    "X_test_scaled = preprocessing.scale(X_test)"
   ]
  },
  {
   "cell_type": "code",
   "execution_count": 82,
   "metadata": {},
   "outputs": [
    {
     "data": {
      "text/plain": [
       "numpy.ndarray"
      ]
     },
     "execution_count": 82,
     "metadata": {},
     "output_type": "execute_result"
    }
   ],
   "source": [
    "type(X_train_scaled)"
   ]
  },
  {
   "cell_type": "code",
   "execution_count": 22,
   "metadata": {},
   "outputs": [
    {
     "data": {
      "text/plain": [
       "SVC(C=1.0, cache_size=200, class_weight=None, coef0=0.0,\n",
       "  decision_function_shape='ovr', degree=3, gamma='auto', kernel='poly',\n",
       "  max_iter=-1, probability=False, random_state=None, shrinking=True,\n",
       "  tol=0.001, verbose=False)"
      ]
     },
     "execution_count": 22,
     "metadata": {},
     "output_type": "execute_result"
    }
   ],
   "source": [
    "clf = SVC(kernel='poly')\n",
    "clf.fit(X_train_scaled, y_train)"
   ]
  },
  {
   "cell_type": "code",
   "execution_count": 23,
   "metadata": {},
   "outputs": [
    {
     "name": "stdout",
     "output_type": "stream",
     "text": [
      "Accuracy: 83.33%\n"
     ]
    }
   ],
   "source": [
    "# make predictions for test data\n",
    "y_pred = clf.predict(X_test_scaled)\n",
    "predictions = [round(value) for value in y_pred]\n",
    "# evaluate predictions\n",
    "accuracy = accuracy_score(y_test, predictions)\n",
    "print(\"Accuracy: %.2f%%\" % (accuracy * 100.0))"
   ]
  },
  {
   "cell_type": "code",
   "execution_count": 24,
   "metadata": {
    "collapsed": true
   },
   "outputs": [],
   "source": [
    "output = clf.predict(test)\n",
    "output_class = []\n",
    "for i in output:\n",
    "    if i <= 0.5:\n",
    "        output_class.append(0)\n",
    "    else:\n",
    "        output_class.append(1)\n",
    "outputDF = pd.DataFrame({\"PassengerId\":ID2, \"Survived\":output_class})\n",
    "outputDF.to_csv(\"titanic_predictions.csv\",index=False)"
   ]
  },
  {
   "cell_type": "markdown",
   "metadata": {
    "collapsed": true
   },
   "source": [
    "# What about voting classifier?"
   ]
  },
  {
   "cell_type": "code",
   "execution_count": 28,
   "metadata": {
    "collapsed": true
   },
   "outputs": [],
   "source": [
    "from sklearn.ensemble import VotingClassifier\n",
    "from sklearn.linear_model import LogisticRegression\n",
    "from sklearn.naive_bayes import GaussianNB"
   ]
  },
  {
   "cell_type": "code",
   "execution_count": 94,
   "metadata": {},
   "outputs": [
    {
     "data": {
      "text/html": [
       "<div>\n",
       "<style>\n",
       "    .dataframe thead tr:only-child th {\n",
       "        text-align: right;\n",
       "    }\n",
       "\n",
       "    .dataframe thead th {\n",
       "        text-align: left;\n",
       "    }\n",
       "\n",
       "    .dataframe tbody tr th {\n",
       "        vertical-align: top;\n",
       "    }\n",
       "</style>\n",
       "<table border=\"1\" class=\"dataframe\">\n",
       "  <thead>\n",
       "    <tr style=\"text-align: right;\">\n",
       "      <th></th>\n",
       "      <th>Pclass</th>\n",
       "      <th>Sex</th>\n",
       "      <th>Age</th>\n",
       "      <th>SibSp</th>\n",
       "      <th>Parch</th>\n",
       "      <th>Fare</th>\n",
       "      <th>Embarked</th>\n",
       "      <th>SoloMale</th>\n",
       "    </tr>\n",
       "  </thead>\n",
       "  <tbody>\n",
       "    <tr>\n",
       "      <th>165</th>\n",
       "      <td>3</td>\n",
       "      <td>0</td>\n",
       "      <td>9.0</td>\n",
       "      <td>0</td>\n",
       "      <td>2</td>\n",
       "      <td>20.5250</td>\n",
       "      <td>0.0</td>\n",
       "      <td>0</td>\n",
       "    </tr>\n",
       "    <tr>\n",
       "      <th>541</th>\n",
       "      <td>3</td>\n",
       "      <td>1</td>\n",
       "      <td>9.0</td>\n",
       "      <td>4</td>\n",
       "      <td>2</td>\n",
       "      <td>31.2750</td>\n",
       "      <td>0.0</td>\n",
       "      <td>0</td>\n",
       "    </tr>\n",
       "    <tr>\n",
       "      <th>625</th>\n",
       "      <td>1</td>\n",
       "      <td>0</td>\n",
       "      <td>61.0</td>\n",
       "      <td>0</td>\n",
       "      <td>0</td>\n",
       "      <td>32.3208</td>\n",
       "      <td>0.0</td>\n",
       "      <td>1</td>\n",
       "    </tr>\n",
       "    <tr>\n",
       "      <th>388</th>\n",
       "      <td>3</td>\n",
       "      <td>0</td>\n",
       "      <td>30.0</td>\n",
       "      <td>0</td>\n",
       "      <td>0</td>\n",
       "      <td>7.7292</td>\n",
       "      <td>2.0</td>\n",
       "      <td>1</td>\n",
       "    </tr>\n",
       "    <tr>\n",
       "      <th>76</th>\n",
       "      <td>3</td>\n",
       "      <td>0</td>\n",
       "      <td>30.0</td>\n",
       "      <td>0</td>\n",
       "      <td>0</td>\n",
       "      <td>7.8958</td>\n",
       "      <td>0.0</td>\n",
       "      <td>1</td>\n",
       "    </tr>\n",
       "  </tbody>\n",
       "</table>\n",
       "</div>"
      ],
      "text/plain": [
       "     Pclass  Sex   Age  SibSp  Parch     Fare  Embarked  SoloMale\n",
       "165       3    0   9.0      0      2  20.5250       0.0         0\n",
       "541       3    1   9.0      4      2  31.2750       0.0         0\n",
       "625       1    0  61.0      0      0  32.3208       0.0         1\n",
       "388       3    0  30.0      0      0   7.7292       2.0         1\n",
       "76        3    0  30.0      0      0   7.8958       0.0         1"
      ]
     },
     "execution_count": 94,
     "metadata": {},
     "output_type": "execute_result"
    }
   ],
   "source": [
    "XX = pd.DataFrame(X_train)\n",
    "test[\"Embarked\"] = test[\"Embarked\"].apply(pd.to_numeric)\n",
    "test.head()\n",
    "\n",
    "X_train_scaled = preprocessing.scale(X_train)\n",
    "X_test_scaled = preprocessing.scale(X_test)"
   ]
  },
  {
   "cell_type": "code",
   "execution_count": 79,
   "metadata": {},
   "outputs": [
    {
     "ename": "IndexError",
     "evalue": "only integers, slices (`:`), ellipsis (`...`), numpy.newaxis (`None`) and integer or boolean arrays are valid indices",
     "output_type": "error",
     "traceback": [
      "\u001b[0;31m---------------------------------------------------------------------------\u001b[0m",
      "\u001b[0;31mIndexError\u001b[0m                                Traceback (most recent call last)",
      "\u001b[0;32m<ipython-input-79-16ef84e0929c>\u001b[0m in \u001b[0;36m<module>\u001b[0;34m()\u001b[0m\n\u001b[1;32m      1\u001b[0m \u001b[0menc1\u001b[0m \u001b[0;34m=\u001b[0m \u001b[0mpreprocessing\u001b[0m\u001b[0;34m.\u001b[0m\u001b[0mOneHotEncoder\u001b[0m\u001b[0;34m(\u001b[0m\u001b[0mcategorical_features\u001b[0m\u001b[0;34m=\u001b[0m\u001b[0;34m[\u001b[0m\u001b[0;34m\"Pclass\"\u001b[0m\u001b[0;34m,\u001b[0m\u001b[0;34m\"Embarked\"\u001b[0m\u001b[0;34m]\u001b[0m\u001b[0;34m)\u001b[0m\u001b[0;34m\u001b[0m\u001b[0m\n\u001b[0;32m----> 2\u001b[0;31m \u001b[0mX_train_scaled\u001b[0m\u001b[0;34m[\u001b[0m\u001b[0;34m\"Embarked\"\u001b[0m\u001b[0;34m]\u001b[0m\u001b[0;34m.\u001b[0m\u001b[0mastype\u001b[0m\u001b[0;34m(\u001b[0m\u001b[0mint\u001b[0m\u001b[0;34m)\u001b[0m\u001b[0;34m\u001b[0m\u001b[0m\n\u001b[0m\u001b[1;32m      3\u001b[0m \u001b[0mX_train_scaled_OHE\u001b[0m \u001b[0;34m=\u001b[0m \u001b[0menc1\u001b[0m\u001b[0;34m.\u001b[0m\u001b[0mfit\u001b[0m\u001b[0;34m(\u001b[0m\u001b[0mX_train_scaled\u001b[0m\u001b[0;34m)\u001b[0m\u001b[0;34m\u001b[0m\u001b[0m\n",
      "\u001b[0;31mIndexError\u001b[0m: only integers, slices (`:`), ellipsis (`...`), numpy.newaxis (`None`) and integer or boolean arrays are valid indices"
     ]
    }
   ],
   "source": [
    "enc1 = preprocessing.OneHotEncoder(categorical_features=[\"Pclass\",\"Embarked\"])\n",
    "\n",
    "X_train_scaled_OHE = enc1.fit(X_train_scaled)"
   ]
  },
  {
   "cell_type": "code",
   "execution_count": 70,
   "metadata": {
    "collapsed": true
   },
   "outputs": [],
   "source": [
    "clf1 = LogisticRegression(random_state=1)\n",
    "clf2 = RandomForestRegressor(max_depth=7, random_state=1)\n",
    "clf3 = SVC(kernel='poly')\n",
    "clf4 = GaussianNB()\n",
    "eclf1 = VotingClassifier(estimators=[('lr', clf1),('svc', clf3),('gnb',clf4)], voting='hard')\n",
    "eclf2 = eclf1.fit(X_train_scaled, y_train)"
   ]
  },
  {
   "cell_type": "code",
   "execution_count": 71,
   "metadata": {},
   "outputs": [
    {
     "name": "stdout",
     "output_type": "stream",
     "text": [
      "VotingClassifier(estimators=[('lr', LogisticRegression(C=1.0, class_weight=None, dual=False, fit_intercept=True,\n",
      "          intercept_scaling=1, max_iter=100, multi_class='ovr', n_jobs=1,\n",
      "          penalty='l2', random_state=1, solver='liblinear', tol=0.0001,\n",
      "          verbose=0, warm_start=False)), ('svc', SVC(C=1.0..., random_state=None, shrinking=True,\n",
      "  tol=0.001, verbose=False)), ('gnb', GaussianNB(priors=None))],\n",
      "         flatten_transform=None, n_jobs=1, voting='hard', weights=None)\n"
     ]
    }
   ],
   "source": [
    "print eclf2"
   ]
  },
  {
   "cell_type": "code",
   "execution_count": 72,
   "metadata": {},
   "outputs": [
    {
     "name": "stdout",
     "output_type": "stream",
     "text": [
      "Accuracy: 84.44%\n"
     ]
    }
   ],
   "source": [
    "# make predictions for test data\n",
    "y_pred = eclf2.predict(X_test_scaled)\n",
    "predictions = [round(value) for value in y_pred]\n",
    "# evaluate predictions\n",
    "accuracy = accuracy_score(y_test, predictions)\n",
    "print(\"Accuracy: %.2f%%\" % (accuracy * 100.0))"
   ]
  },
  {
   "cell_type": "code",
   "execution_count": 73,
   "metadata": {
    "collapsed": true
   },
   "outputs": [],
   "source": [
    "output = eclf1.predict(test)\n",
    "output_class = []\n",
    "for i in output:\n",
    "    if i <= 0.5:\n",
    "        output_class.append(0)\n",
    "    else:\n",
    "        output_class.append(1)\n",
    "outputDF = pd.DataFrame({\"PassengerId\":ID2, \"Survived\":output_class})\n",
    "outputDF.to_csv(\"titanic_predictions_ensemble.csv\",index=False)"
   ]
  },
  {
   "cell_type": "code",
   "execution_count": null,
   "metadata": {
    "collapsed": true
   },
   "outputs": [],
   "source": []
  }
 ],
 "metadata": {
  "anaconda-cloud": {},
  "kernelspec": {
   "display_name": "Python [default]",
   "language": "python",
   "name": "python2"
  },
  "language_info": {
   "codemirror_mode": {
    "name": "ipython",
    "version": 2
   },
   "file_extension": ".py",
   "mimetype": "text/x-python",
   "name": "python",
   "nbconvert_exporter": "python",
   "pygments_lexer": "ipython2",
   "version": "2.7.11"
  }
 },
 "nbformat": 4,
 "nbformat_minor": 2
}
